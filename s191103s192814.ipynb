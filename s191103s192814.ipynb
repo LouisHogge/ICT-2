{
 "cells": [
  {
   "cell_type": "markdown",
   "metadata": {
    "deletable": false,
    "editable": false,
    "id": "j7kUOJkq0GUo"
   },
   "source": [
    "# Project 2 - Source coding, data compression and channel coding\n",
    "\n",
    "The goal of this second project is to apply some of the principles seen in the lectures about source coding, data compression and channel coding. We ask you to write a brief report (pdf format) collecting your answers to the different questions. All codes must be written in Python inside this Jupyter. Note that you can not change the content of locked cells or import any extra Python library than the ones already imported (numpy)."
   ]
  },
  {
   "cell_type": "markdown",
   "metadata": {
    "deletable": false,
    "editable": false,
    "id": "Ztp8uLg40GUt"
   },
   "source": [
    "## Implementation\n",
    "\n",
    "In this project, you will need to use implement source coding algorithms to answer several questions. Therefore, in this first part, you are asked to write several functions that implement two of the  algorithms seen in the theoretical lectures and one new algorithm described in the project statement. Remember that you need to fill in this Jupyter Notebook to answer these questions. Pay particular attention to the required input and output format of each function."
   ]
  },
  {
   "cell_type": "code",
   "execution_count": 25,
   "metadata": {
    "deletable": false,
    "editable": false,
    "id": "Hj-l1-GY0GUu"
   },
   "outputs": [],
   "source": [
    "# [Locked Cell] You can not import any extra Python library in this Notebook.\n",
    "import numpy as np"
   ]
  },
  {
   "cell_type": "markdown",
   "metadata": {
    "deletable": false,
    "editable": false,
    "id": "B8U7YQaO0GUv"
   },
   "source": [
    "### Question 1\n",
    "Implement a function that returns a binary Huffman code for a given probability distribution. Give the main steps of your implementation. Verify your code on Exercise 7 of the second exercise session (TP2), and report the output of your code for this example. Explain how to extend your function to generate a Huffman code of any (output) alphabet size. \n"
   ]
  },
  {
   "cell_type": "code",
   "execution_count": 26,
   "metadata": {
    "id": "Ale82t7g0GUw"
   },
   "outputs": [],
   "source": [
    "# Find indices of the two nodes with smallest probabilities\n",
    "def find_min_probability_nodes(nodes):\n",
    "    min1 = min2 = float('inf')\n",
    "    min1_idx = min2_idx = -1\n",
    "\n",
    "    # Iterate through nodes to find smallest probabilities\n",
    "    for idx, node in enumerate(nodes):\n",
    "        if node[0] < min1:\n",
    "            min2 = min1\n",
    "            min2_idx = min1_idx\n",
    "            min1 = node[0]\n",
    "            min1_idx = idx\n",
    "        elif node[0] < min2:\n",
    "            min2 = node[0]\n",
    "            min2_idx = idx\n",
    "\n",
    "    return min1_idx, min2_idx\n",
    "\n",
    "# Build Huffman tree\n",
    "def huffman_tree(probability_dict):\n",
    "    # Create list of nodes sorted by probability and symbol\n",
    "    nodes = sorted([(prob, symbol) for symbol, prob in probability_dict.items()], key=lambda x: (-x[0], x[1]))\n",
    "\n",
    "    # Combine nodes with smallest probabilities until only one node left\n",
    "    while len(nodes) > 1:\n",
    "        min1_idx, min2_idx = find_min_probability_nodes(nodes)\n",
    "        a = nodes[min1_idx]\n",
    "        b = nodes[min2_idx]\n",
    "\n",
    "        combined_node = (a[0] + b[0], (a[1], b[1]))\n",
    "        nodes[min1_idx] = combined_node\n",
    "        nodes.pop(min2_idx)\n",
    "\n",
    "    return nodes[0]\n",
    "\n",
    "# Recursively generate Huffman codes\n",
    "def huffman_codes_recursive(tree, prefix=''):\n",
    "    if isinstance(tree, str):\n",
    "        return {tree: prefix}\n",
    "    else:\n",
    "        left, right = tree\n",
    "        codes = {}\n",
    "        codes.update(huffman_codes_recursive(left, prefix + '0'))\n",
    "        codes.update(huffman_codes_recursive(right, prefix + '1'))\n",
    "        return codes\n",
    "\n",
    "def Huffman_code(probability_dict):\n",
    "    \"\"\"\n",
    "    Create the Huffman code for given probabilities  \n",
    "    \n",
    "    Arguments:\n",
    "    ----------\n",
    "    probability_dict:\n",
    "      - keys: symbol as character or string\n",
    "      - values: probability of the symbol as a float or double\n",
    "      Example: {\"A\": 0.25, \"B\":0.5,\"C\":0.125,\"D\":0.125}\n",
    "    \n",
    "    Return:\n",
    "    -------\n",
    "    - codewords: dictionary with the name and the corresponding codeword \n",
    "      - keys: symbol as character or string\n",
    "      - values: associated codeword as a character or a string    \n",
    "      Example: {\"A\": \"10\", \"B\":\"0\",\"C\":\"111\",\"D\":\"110\"}\n",
    "    \n",
    "    \"\"\"  \n",
    "\n",
    "    tree = huffman_tree(probability_dict) # Build the Huffman tree\n",
    "    codewords = huffman_codes_recursive(tree[1]) # Generate the Huffman codes\n",
    "\n",
    "    # Sort keys in ascending order --> needed ?\n",
    "    sorted_codewords = {symbol: codewords[symbol] for symbol in sorted(codewords)}\n",
    "\n",
    "    return sorted_codewords"
   ]
  },
  {
   "cell_type": "markdown",
   "metadata": {},
   "source": [
    "Example from statement above "
   ]
  },
  {
   "cell_type": "code",
   "execution_count": 15,
   "metadata": {},
   "outputs": [
    {
     "name": "stdout",
     "output_type": "stream",
     "text": [
      "{'S1': '10', 'S2': '0', 'S3': '110', 'S4': '111'}\n"
     ]
    }
   ],
   "source": [
    "probability_vector = np.array([0.25, 0.5, 0.125, 0.125])\n",
    "probability_dict = {f'S{idx+1}': prob for idx, prob in enumerate(probability_vector)}\n",
    "huffman_codes = Huffman_code(probability_dict)\n",
    "print(huffman_codes)"
   ]
  },
  {
   "cell_type": "markdown",
   "metadata": {},
   "source": [
    "TP2 - Exercise 7:\n",
    "\n",
    "Let a source be stationary and memoryless emitting six different symbols. Their probabilities are given by the following vector: P(S) = [0.05 0.10 0.15 0.15 0.2 0.35]. Use the Huffman algorithm to find a binary code for that source. "
   ]
  },
  {
   "cell_type": "code",
   "execution_count": 16,
   "metadata": {},
   "outputs": [
    {
     "name": "stdout",
     "output_type": "stream",
     "text": [
      "{'S1': '000', 'S2': '001', 'S3': '100', 'S4': '101', 'S5': '01', 'S6': '11'}\n"
     ]
    }
   ],
   "source": [
    "probability_vector = np.array([0.05, 0.10, 0.15, 0.15, 0.2, 0.35])\n",
    "probability_dict = {f'S{idx+1}': prob for idx, prob in enumerate(probability_vector)}\n",
    "huffman_codes = Huffman_code(probability_dict)\n",
    "print(huffman_codes)"
   ]
  },
  {
   "cell_type": "markdown",
   "metadata": {
    "deletable": false,
    "editable": false,
    "id": "_KjzF5nZ0GUw"
   },
   "source": [
    "### Question 2\n",
    "\n",
    "Given a sequence of symbols, implement a function that returns a dictionary and the encoded sequence using the on-line Lempel-Ziv algorithm (see State of the art in data compression, slide 50/53). Reproduce and report the example given in the course. "
   ]
  },
  {
   "cell_type": "code",
   "execution_count": 17,
   "metadata": {
    "id": "dxyFyrmh0GUx"
   },
   "outputs": [],
   "source": [
    "def LZ_online(sequence):\n",
    "    \"\"\"\n",
    "    The on-line Lempel-Ziv algorithm given a sequence of symbols  \n",
    "    Arguments:\n",
    "    ----------\n",
    "    - sequence : Sequence of symbols in the string format\n",
    "    \n",
    "    Return:\n",
    "    -------\n",
    "    - dictionary : the computed dictionnary in the form:\n",
    "        - keys: symbol as character or string\n",
    "        - values: associated codeword as a tuple composed of the entry index (integer) and a binarized adress with one appended symbol (character or string)\n",
    "        Example: {'': (0, ''), '0': (1, '0'), '1': (2, '01'), '00': (3, '010'), '10': (4, '100')}\n",
    "    - encoded_sequence : the encoded sequence in the string format\n",
    "    \"\"\"\n",
    "    \n",
    "    dictionary = {'': (0, '')}\n",
    "    encoded_sequence = ''\n",
    "    buffer = ''\n",
    "    next_code = 1\n",
    "\n",
    "    for symbol in sequence:\n",
    "        buffer += symbol\n",
    "\n",
    "        if buffer not in dictionary:\n",
    "            # Get prefix\n",
    "            prefix = buffer[:-1]\n",
    "\n",
    "            # Calculate number of bits required\n",
    "            num_bits = int(np.ceil(np.log2(next_code)))\n",
    "\n",
    "            # Add new entry with index and binary address with appended symbol\n",
    "            dictionary[buffer] = (next_code, (format(dictionary[prefix][0], f'0{num_bits}b') if next_code > 1 else '') + buffer[-1])\n",
    "            \n",
    "            # Add encoded symbol\n",
    "            encoded_sequence += dictionary[buffer][1]\n",
    "            \n",
    "            next_code += 1\n",
    "            buffer = ''\n",
    "\n",
    "    return dictionary, encoded_sequence"
   ]
  },
  {
   "cell_type": "markdown",
   "metadata": {},
   "source": [
    "Example from statement"
   ]
  },
  {
   "cell_type": "code",
   "execution_count": 18,
   "metadata": {},
   "outputs": [
    {
     "name": "stdout",
     "output_type": "stream",
     "text": [
      "Dictionary: {'': (0, ''), '0': (1, '0'), '1': (2, '01'), '00': (3, '010'), '10': (4, '100')}\n",
      "Encoded sequence: 001010100\n"
     ]
    }
   ],
   "source": [
    "sequence = '010010'\n",
    "dictionary, encoded_sequence = LZ_online(sequence)\n",
    "print('Dictionary:', dictionary)\n",
    "print('Encoded sequence:', encoded_sequence)"
   ]
  },
  {
   "cell_type": "markdown",
   "metadata": {},
   "source": [
    "Example given in the course (see State of the art in data compression, slide 50/53)"
   ]
  },
  {
   "cell_type": "code",
   "execution_count": 19,
   "metadata": {},
   "outputs": [
    {
     "name": "stdout",
     "output_type": "stream",
     "text": [
      "Dictionary: {'': (0, ''), '1': (1, '1'), '0': (2, '00'), '11': (3, '011'), '01': (4, '101'), '010': (5, '1000'), '00': (6, '0100'), '10': (7, '0010')}\n",
      "Encoded sequence: 100011101100001000010\n"
     ]
    }
   ],
   "source": [
    "sequence = '1011010100010'\n",
    "dictionary, encoded_sequence = LZ_online(sequence)\n",
    "print('Dictionary:', dictionary)\n",
    "print('Encoded sequence:', encoded_sequence)"
   ]
  },
  {
   "cell_type": "markdown",
   "metadata": {
    "deletable": false,
    "editable": false,
    "id": "UG7cwbf50GUx"
   },
   "source": [
    "### Question 4\n",
    "\n",
    "Implement a function that returns the encoded sequence using the LZ77 algorithm as described by the algorithm below given an input string and a sliding window size l. Reproduce the example given in Figure 2 with window_size=7."
   ]
  },
  {
   "cell_type": "code",
   "execution_count": 27,
   "metadata": {
    "id": "aHoBHPcL0GUy"
   },
   "outputs": [],
   "source": [
    "def LZ77(sequence, window_size=7):\n",
    "    \"\"\"\n",
    "    The Lempel-Ziv 77 algorithm given a sequence of symbols and the sliding window size\n",
    "    \n",
    "    Arguments:\n",
    "    ----------\n",
    "    - sequence : Sequence of symbols in the string format\n",
    "    - window_size : sliding window size as an integer\n",
    "    \n",
    "    Return:\n",
    "    -------\n",
    "    - encoded_sequence : the encoded sequence in the string format\n",
    "    \"\"\"\n",
    "\n",
    "    encoded_sequence = []\n",
    "    window = ''\n",
    "    input_string = sequence\n",
    "    \n",
    "    while input_string:\n",
    "        max_prefix_length = 0\n",
    "        max_prefix_offset = 0\n",
    "        prefix_char = input_string[0]\n",
    "        \n",
    "        # Iterate through window to find longest prefix\n",
    "        for i in range(len(window)):\n",
    "            prefix_length = 0\n",
    "            while (prefix_length < len(input_string) and window[i + prefix_length] == input_string[prefix_length]):\n",
    "                prefix_length += 1\n",
    "                if i + prefix_length >= len(window):\n",
    "                    break\n",
    "            \n",
    "            # Update maximum prefix information if longer prefix found\n",
    "            if prefix_length >= max_prefix_length:\n",
    "                max_prefix_length = prefix_length\n",
    "                max_prefix_offset = len(window) - i\n",
    "                prefix_char = input_string[prefix_length] if prefix_length < len(input_string) else ''\n",
    "        \n",
    "        # If prefix found, set d, p, and c accordingly\n",
    "        if max_prefix_length > 0:\n",
    "            d = max_prefix_offset\n",
    "            p = max_prefix_length\n",
    "            c = prefix_char\n",
    "        else:\n",
    "            d = 0\n",
    "            p = 0\n",
    "            c = input_string[0]\n",
    "        \n",
    "        encoded_sequence.append((d, p, c))\n",
    "        \n",
    "        # Shift the sliding window\n",
    "        shift_amount = p + 1\n",
    "        window = window[-window_size + shift_amount:] + input_string[:shift_amount]\n",
    "        input_string = input_string[shift_amount:]\n",
    "    \n",
    "    return encoded_sequence"
   ]
  },
  {
   "cell_type": "markdown",
   "metadata": {},
   "source": [
    "Example given in Figure 2 with window_size=7"
   ]
  },
  {
   "cell_type": "code",
   "execution_count": 28,
   "metadata": {},
   "outputs": [
    {
     "name": "stdout",
     "output_type": "stream",
     "text": [
      "Encoded sequence: [(0, 0, 'a'), (0, 0, 'b'), (0, 0, 'r'), (3, 1, 'c'), (2, 1, 'd'), (7, 4, 'd')]\n"
     ]
    }
   ],
   "source": [
    "sequence = 'abracadabrad'\n",
    "encoded_sequence = LZ77(sequence)\n",
    "print('Encoded sequence:', encoded_sequence)"
   ]
  },
  {
   "cell_type": "code",
   "execution_count": 22,
   "metadata": {
    "deletable": false,
    "editable": false,
    "id": "EG1vVgUg0GUz"
   },
   "outputs": [],
   "source": [
    "# [Locked Cell] Evaluation of your functions by the examiner. \n",
    "# You don't have access to the evaluation, this will be done by the examiner.\n",
    "# Therefore, this cell will return nothing for the students.\n",
    "import os\n",
    "if os.path.isfile(\"private_evaluation.py\"):\n",
    "    from private_evaluation import unit_tests\n",
    "    unit_tests(Huffman_code, LZ_online, LZ77)"
   ]
  },
  {
   "cell_type": "markdown",
   "metadata": {
    "deletable": false,
    "editable": false,
    "id": "znaBCYTG0GU0"
   },
   "source": [
    "## Source coding and reversible (lossless) data compression\n"
   ]
  },
  {
   "cell_type": "markdown",
   "metadata": {
    "id": "-F_fTEp10GU0"
   },
   "source": [
    "### Question 5"
   ]
  },
  {
   "cell_type": "markdown",
   "metadata": {},
   "source": [
    "Write a function to read and display both images (you may use external libraries). What is the number of symbols required to represent all possible images in both image representations? What is the length (in bytes) of both files?"
   ]
  },
  {
   "cell_type": "code",
   "execution_count": 29,
   "metadata": {},
   "outputs": [],
   "source": [
    "from io import BytesIO\n",
    "from PIL import Image\n",
    "\n",
    "def display_image(file):\n",
    "    with open(file, 'r') as file:\n",
    "        lines = file.readlines()\n",
    "\n",
    "    # Conversion of hexadecimal numbers in integers\n",
    "    values = [int(value, 16) for line in lines for value in line.split()]\n",
    "\n",
    "    image = Image.new('L', (512, 512))\n",
    "\n",
    "    for i, value in enumerate(values):\n",
    "        x = i % 512\n",
    "        y = i // 512\n",
    "        image.putpixel((x, y), value)\n",
    "\n",
    "    image.show()\n",
    "    \n",
    "import binascii\n",
    "\n",
    "def display_image_png(file):\n",
    "    \n",
    "    # File lecture and conversion of hexadecimal numbers in bytes \n",
    "    with open(file, 'r') as f:\n",
    "        octets_hex = f.read().split()\n",
    "        \n",
    "    octets = bytes.fromhex(''.join(octets_hex))\n",
    "\n",
    "    # Image creation \n",
    "    image = Image.open(BytesIO(octets))\n",
    "\n",
    "    image.show()"
   ]
  },
  {
   "cell_type": "code",
   "execution_count": 30,
   "metadata": {},
   "outputs": [],
   "source": [
    "display_image('data/pixel.txt')\n",
    "display_image_png('data/PNG.txt')"
   ]
  },
  {
   "cell_type": "markdown",
   "metadata": {},
   "source": [
    "### Question 6"
   ]
  },
  {
   "cell_type": "markdown",
   "metadata": {},
   "source": [
    "Estimate the marginal probability distribution of all symbols (in hexadecimal representation) from the given PNG representation sequence of the image, and determine the corresponding binary Huffman code and the encoded PNG sequence. Give the total length of the encoded PNG sequence and the compression rate."
   ]
  },
  {
   "cell_type": "code",
   "execution_count": 32,
   "metadata": {},
   "outputs": [
    {
     "name": "stdout",
     "output_type": "stream",
     "text": [
      "Number of occurence of each symbol : \n",
      "{'89': 494, '50': 544, '4e': 571, '47': 566, '0d': 659, '0a': 628, '1a': 545, '00': 1803, '49': 596, '48': 519, '44': 528, '52': 613, '02': 1024, '08': 824, 'd1': 550, '13': 589, '8b': 576, '26': 595, '04': 917, '67': 515, '41': 585, '4d': 559, 'b1': 605, '8f': 647, '0b': 657, 'fc': 728, '61': 553, '05': 761, '20': 824, '63': 569, '7a': 617, '80': 1175, '84': 574, 'fa': 586, 'e8': 506, '75': 541, '30': 754, 'ea': 560, '60': 839, '3a': 571, '98': 599, '17': 663, '70': 884, '9c': 663, 'ba': 520, '51': 622, '3c': 676, '62': 665, '4b': 492, 'ff': 837, '87': 625, 'cc': 511, 'bf': 680, '09': 612, '59': 565, '73': 565, 'c8': 531, 'e7': 653, 'ad': 552, '07': 925, '74': 554, '45': 569, '28': 669, '23': 475, '6b': 551, 'df': 690, '01': 1201, '6f': 614, '72': 576, '54': 599, 'cf': 675, 'a2': 532, '77': 673, '9a': 603, '78': 686, 'da': 501, 'ec': 570, 'bd': 627, '5d': 566, '1b': 584, 'e9': 615, 'b6': 532, '2e': 619, '36': 572, '56': 643, '5f': 615, '31': 691, '3b': 581, '0e': 757, 'ac': 540, 'a8': 555, '22': 586, '53': 543, 'a1': 495, '55': 548, 'dc': 656, '85': 550, 'c1': 761, 'b0': 692, 'd4': 535, 'c2': 552, '2c': 645, 'ab': 614, '29': 543, '71': 637, '2b': 534, '32': 579, '2d': 549, '42': 540, '03': 1016, '2a': 543, '64': 612, '7d': 585, '58': 669, 'd3': 645, '25': 569, 'f6': 632, '16': 580, '33': 458, '93': 556, 'd8': 652, '6c': 618, 'c6': 541, 'cb': 680, 'd2': 440, 'cd': 560, 'c9': 573, 'd9': 540, '1f': 751, 'a6': 572, '5b': 480, '96': 567, 'c7': 761, 'bc': 577, '9e': 591, 'de': 624, 'a5': 568, 'eb': 710, 'c4': 575, '2f': 565, '7f': 729, 'c5': 631, '8d': 496, '94': 556, '37': 609, 'b3': 588, 'b9': 547, 'b8': 700, 'f5': 604, 'b7': 644, 'bb': 690, 'ef': 728, 'e1': 664, '38': 873, 'dd': 658, '1e': 611, 'f0': 764, 'fb': 728, '6a': 546, 'f1': 567, 'ca': 491, 'd7': 643, '99': 430, '39': 611, 'c3': 656, '19': 631, '7b': 584, 'fd': 705, 'd6': 490, '79': 555, '18': 795, 'f8': 769, 'ce': 615, '8e': 636, 'ae': 547, 'f7': 726, '27': 579, 'a4': 515, '9d': 573, 'e2': 571, '0f': 779, '3f': 763, '7c': 679, '66': 560, 'b2': 519, '3e': 651, 'af': 635, '9b': 572, '76': 618, 'be': 582, 'c0': 1100, 'e0': 1016, 'e6': 568, 'f2': 589, 'e5': 646, '0c': 758, '81': 816, '83': 626, '95': 512, 'e3': 684, '68': 574, '1d': 593, '91': 539, '5e': 642, '5a': 548, '11': 565, '21': 558, '57': 566, '5c': 674, '34': 596, 'f9': 639, '24': 611, '14': 659, 'f4': 539, '8a': 636, '6e': 686, 'b5': 568, 'b4': 464, 'db': 688, 'a7': 558, '97': 563, '06': 762, 'a0': 623, '15': 602, '7e': 621, 'ed': 668, 'd0': 525, '46': 541, 'fe': 706, 'd5': 600, '82': 669, '3d': 487, '10': 812, 'ee': 612, '69': 559, '4f': 538, '1c': 722, '6d': 533, 'a9': 547, '43': 550, '88': 573, 'f3': 660, '8c': 535, '9f': 636, '40': 803, '86': 565, '12': 587, '4a': 611, 'aa': 538, '90': 552, '4c': 543, '92': 608, 'a3': 606, 'e4': 476, '35': 558, '65': 519}\n"
     ]
    }
   ],
   "source": [
    "#Counting the numbers of occurence of hexadecimal numbers in the \"PNG.txt\" file\n",
    "#Code inspired from https://www.geeksforgeeks.org/python-count-occurrences-of-each-word-in-given-text-file/\n",
    "\n",
    "# Open the file in read mode\n",
    "png = open(\"data/PNG.txt\", \"r\")\n",
    "\n",
    "# Create an empty dictionary\n",
    "d1 = dict()\n",
    "\n",
    "# Loop through each line of the file\n",
    "for line in png:\n",
    "    # Remove the leading spaces and newline character\n",
    "    line = line.strip()\n",
    "\n",
    "    # Convert the characters in line to\n",
    "    # lowercase to avoid case mismatch\n",
    "    line = line.lower()\n",
    "\n",
    "    # Split the line into words\n",
    "    hexas = line.split(\" \")\n",
    " \n",
    "\n",
    "    # Iterate over each word in line\n",
    "    for hexa in hexas:\n",
    "        # Check if the word is already in dictionary\n",
    "        if hexa in d1:\n",
    "            # Increment count of word by 1\n",
    "            d1[hexa] = d1[hexa] + 1\n",
    "        else:\n",
    "            # Add the word to dictionary with count 1\n",
    "            d1[hexa] = 1\n",
    "print(\"Number of occurence of each symbol : \")\n",
    "print(d1)"
   ]
  },
  {
   "cell_type": "code",
   "execution_count": 33,
   "metadata": {
    "scrolled": true
   },
   "outputs": [
    {
     "name": "stdout",
     "output_type": "stream",
     "text": [
      "Probability distribution of png symbols :\n",
      "{'89': 0.0030768847476207086, '50': 0.0033883103293636955, '4e': 0.003556480143504908, '47': 0.0035253375853306094, '0d': 0.004104589167372564, '0a': 0.003911505306691913, '1a': 0.003394538840998555, '00': 0.011230006477652101, '49': 0.0037121929343764013, '48': 0.003232597538492202, '44': 0.0032886541432059395, '52': 0.003818077632169017, '02': 0.006377995914096367, '08': 0.005132293587124421, 'd1': 0.0034256813991728535, '13': 0.0036685933529323833, '8b': 0.003587622701679207, '26': 0.003705964422741542, '04': 0.005711545169166376, '67': 0.003207683491952763, '41': 0.0036436793063929444, '4d': 0.0034817380038865914, 'b1': 0.003768249539090139, '8f': 0.004029847027754248, '0b': 0.004092132144102845, 'fc': 0.004534356470177886, '61': 0.003444366934077433, '05': 0.004739897354128258, '20': 0.005132293587124421, '63': 0.0035440231202351884, '7a': 0.003842991678708456, '80': 0.007318501170960188, '84': 0.0035751656784094874, 'fa': 0.003649907818027804, 'e8': 0.0031516268872390256, '75': 0.003369624794459116, '30': 0.004696297772684239, 'ea': 0.003487966515521451, '60': 0.005225721261647317, '3a': 0.003556480143504908, '98': 0.003730878469280981, '17': 0.004129503213912003, '70': 0.005506004285216005, '9c': 0.004129503213912003, 'ba': 0.0032388260501270616, '51': 0.0038741342368827543, '3c': 0.00421047386516518, '62': 0.004141960237181723, '4b': 0.003064427724350989, 'ff': 0.005213264238377598, '87': 0.0038928197717873337, 'cc': 0.003182769445413324, 'bf': 0.004235387911704619, '09': 0.0038118491205341573, '59': 0.0035191090736957495, '73': 0.0035191090736957495, 'c8': 0.0033073396781105185, 'e7': 0.004067218097563406, 'ad': 0.003438138422442573, '07': 0.0057613732622452535, '74': 0.0034505954457122925, '45': 0.0035440231202351884, '28': 0.004166874283721162, '23': 0.0029585430265583737, '6b': 0.0034319099108077135, 'df': 0.004297673028053216, '01': 0.007480442473466541, '6f': 0.0038243061438038768, '72': 0.003587622701679207, '54': 0.003730878469280981, 'cf': 0.00420424535353032, 'a2': 0.0033135681897453785, '77': 0.004191788330260601, '9a': 0.0037557925158204193, '78': 0.004272758981513777, 'da': 0.0031204843290647266, 'ec': 0.0035502516318700484, 'bd': 0.0039052767950570532, '5d': 0.0035253375853306094, '1b': 0.0036374507947580844, 'e9': 0.0038305346554387363, 'b6': 0.0033135681897453785, '2e': 0.0038554487019781753, '36': 0.003562708655139768, '56': 0.004004932981214809, '5f': 0.0038305346554387363, '31': 0.004303901539688076, '3b': 0.0036187652598535054, '0e': 0.004714983307588819, 'ac': 0.0033633962828242565, 'a8': 0.0034568239573471524, '22': 0.003649907818027804, '53': 0.0033820818177288355, 'a1': 0.003083113259255568, '55': 0.003413224375903134, 'dc': 0.004085903632467985, '85': 0.0034256813991728535, 'c1': 0.004739897354128258, 'b0': 0.004310130051322936, 'd4': 0.0033322537246499575, 'c2': 0.003438138422442573, '2c': 0.004017390004484528, 'ab': 0.0038243061438038768, '29': 0.0033820818177288355, '71': 0.00396756191140565, '2b': 0.003326025213015098, '32': 0.003606308236583786, '2d': 0.003419452887537994, '42': 0.0033633962828242565, '03': 0.006328167821017489, '2a': 0.0033820818177288355, '64': 0.0038118491205341573, '7d': 0.0036436793063929444, '58': 0.004166874283721162, 'd3': 0.004017390004484528, '25': 0.0035440231202351884, 'f6': 0.003936419353231352, '16': 0.003612536748218646, '33': 0.002852658328765758, '93': 0.003463052468982012, 'd8': 0.004060989585928546, '6c': 0.0038492201903433157, 'c6': 0.003369624794459116, 'cb': 0.004235387911704619, 'd2': 0.002740545119338283, 'cd': 0.003487966515521451, 'c9': 0.0035689371667746274, 'd9': 0.0033633962828242565, '1f': 0.00467761223777966, 'a6': 0.003562708655139768, '5b': 0.002989685584732672, '96': 0.003531566096965469, 'c7': 0.004739897354128258, 'bc': 0.0035938512133140664, '9e': 0.003681050376202103, 'de': 0.003886591260152474, 'a5': 0.003537794608600329, 'eb': 0.004422243260750411, 'c4': 0.003581394190044347, '2f': 0.0035191090736957495, '7f': 0.004540584981812746, 'c5': 0.003930190841596492, '8d': 0.003089341770890428, '94': 0.003463052468982012, '37': 0.003793163585629578, 'b3': 0.0036623648412975234, 'b9': 0.0034069958642682745, 'b8': 0.004359958144401814, 'f5': 0.0037620210274552793, 'b7': 0.004011161492849668, 'bb': 0.004297673028053216, 'ef': 0.004534356470177886, 'e1': 0.004135731725546863, '38': 0.005437490657232548, 'dd': 0.004098360655737705, '1e': 0.0038056206088992973, 'f0': 0.004758582889032837, 'fb': 0.004534356470177886, '6a': 0.0034007673526334145, 'f1': 0.003531566096965469, 'ca': 0.003058199212716129, 'd7': 0.004004932981214809, '99': 0.0026782600029896858, '39': 0.0038056206088992973, 'c3': 0.004085903632467985, '19': 0.003930190841596492, '7b': 0.0036374507947580844, 'fd': 0.004391100702576112, 'd6': 0.0030519707010812696, '79': 0.0034568239573471524, '18': 0.004951666749713489, 'f8': 0.004789725447207136, 'ce': 0.0038305346554387363, '8e': 0.003961333399770791, 'ae': 0.0034069958642682745, 'f7': 0.004521899446908167, '27': 0.003606308236583786, 'a4': 0.003207683491952763, '9d': 0.0035689371667746274, 'e2': 0.003556480143504908, '0f': 0.004852010563555733, '3f': 0.004752354377397977, '7c': 0.004229159400069759, '66': 0.003487966515521451, 'b2': 0.003232597538492202, '3e': 0.004054761074293687, 'af': 0.003955104888135931, '9b': 0.003562708655139768, '76': 0.0038492201903433157, 'be': 0.0036249937714883653, 'c0': 0.006851362798345707, 'e0': 0.006328167821017489, 'e6': 0.003537794608600329, 'f2': 0.0036685933529323833, 'e5': 0.004023618516119388, '0c': 0.004721211819223678, '81': 0.005082465494045543, '83': 0.0038990482834221933, '95': 0.0031889979570481836, 'e3': 0.004260301958244058, '68': 0.0035751656784094874, '1d': 0.0036935073994718223, '91': 0.0033571677711893965, '5e': 0.003998704469579949, '5a': 0.003413224375903134, '11': 0.0035191090736957495, '21': 0.0034755094922517315, '57': 0.0035253375853306094, '5c': 0.004198016841895461, '34': 0.0037121929343764013, 'f9': 0.00398001893467537, '24': 0.0038056206088992973, '14': 0.004104589167372564, 'f4': 0.0033571677711893965, '8a': 0.003961333399770791, '6e': 0.004272758981513777, 'b5': 0.003537794608600329, 'b4': 0.0028900293985749167, 'db': 0.004285216004783497, 'a7': 0.0034755094922517315, '97': 0.0035066520504260304, '06': 0.004746125865763117, 'a0': 0.0038803627485176143, '15': 0.00374956400418556, '7e': 0.0038679057252478948, 'ed': 0.004160645772086302, 'd0': 0.0032699686083013605, '46': 0.003369624794459116, 'fe': 0.004397329214210972, 'd5': 0.0037371069809158403, '82': 0.004166874283721162, '3d': 0.0030332851661766906, '10': 0.005057551447506104, 'ee': 0.0038118491205341573, '69': 0.0034817380038865914, '4f': 0.003350939259554537, '1c': 0.004496985400368728, '6d': 0.003319796701380238, 'a9': 0.0034069958642682745, '43': 0.0034256813991728535, '88': 0.0035689371667746274, 'f3': 0.004110817679007424, '8c': 0.0033322537246499575, '9f': 0.003961333399770791, '40': 0.005001494842792367, '86': 0.0035191090736957495, '12': 0.003656136329662664, '4a': 0.0038056206088992973, 'aa': 0.003350939259554537, '90': 0.003438138422442573, '4c': 0.0033820818177288355, '92': 0.0037869350739947183, 'a3': 0.003774478050724999, 'e4': 0.002964771538193233, '35': 0.0034755094922517315, '65': 0.003232597538492202}\n"
     ]
    }
   ],
   "source": [
    "# Marginal probability distribution of all symbols\n",
    "d2 = d1.copy()\n",
    "total = 160552\n",
    "for key in d2.keys():\n",
    "    d2[key] /= total\n",
    "\n",
    "print(\"Probability distribution of png symbols :\")\n",
    "print(d2)"
   ]
  },
  {
   "cell_type": "code",
   "execution_count": 34,
   "metadata": {
    "scrolled": true
   },
   "outputs": [
    {
     "name": "stdout",
     "output_type": "stream",
     "text": [
      "Binary Huffman code : \n",
      "{'00': '1111011', '01': '1000000', '02': '0000100', '03': '0000001', '04': '11111000', '05': '11100011', '06': '11100110', '07': '11111010', '08': '11101111', '09': '10001110', '0a': '10100010', '0b': '10111001', '0c': '11100010', '0d': '10111011', '0e': '11100001', '0f': '11101010', '10': '11101101', '11': '01001000', '12': '01110011', '13': '01110111', '14': '10111100', '15': '10000011', '16': '01101010', '17': '10111110', '18': '11101011', '19': '10100011', '1a': '00101000', '1b': '01101101', '1c': '11011001', '1d': '01111010', '1e': '10001010', '1f': '11011111', '20': '11110000', '21': '00111111', '22': '01110001', '23': '111110110', '24': '10001011', '25': '01010101', '26': '01111011', '27': '01101000', '28': '11000011', '29': '00100011', '2a': '00100100', '2b': '00010110', '2c': '10110000', '2d': '00101111', '2e': '10011010', '2f': '01001001', '30': '11100000', '31': '11010011', '32': '01101001', '33': '111110010', '34': '01111100', '35': '01000000', '36': '01011100', '37': '10001001', '38': '11110100', '39': '10001100', '3a': '01011001', '3b': '01101011', '3c': '11001001', '3d': '111111001', '3e': '10110100', '3f': '11100111', '40': '11101100', '41': '01101111', '42': '00011101', '43': '00110010', '44': '00010001', '45': '01010110', '46': '00100000', '47': '01001101', '48': '00001100', '49': '01111101', '4a': '10001101', '4b': '111111100', '4c': '00100101', '4d': '01000010', '4e': '01011010', '4f': '00011001', '50': '00100111', '51': '10011100', '52': '10010001', '53': '00100110', '54': '01111110', '55': '00101101', '56': '10101101', '57': '01001110', '58': '11000100', '59': '01001010', '5a': '00101110', '5b': '111111000', '5c': '11000111', '5d': '01001111', '5e': '10101100', '5f': '10010100', '60': '11110010', '61': '00111001', '62': '11000001', '63': '01010111', '64': '10001111', '65': '00001101', '66': '01000100', '67': '00001010', '68': '01100010', '69': '01000011', '6a': '00101001', '6b': '00110101', '6c': '10011000', '6d': '00010101', '6e': '11001110', '6f': '10010010', '70': '11110101', '71': '10101010', '72': '01100101', '73': '01001011', '74': '00111010', '75': '00100001', '76': '10011001', '77': '11000110', '78': '11001111', '79': '00111011', '7a': '10010111', '7b': '01101110', '7c': '11001010', '7d': '01110000', '7e': '10011011', '7f': '11011110', '80': '0111010', '81': '11101110', '82': '11000101', '83': '10100000', '84': '01100011', '85': '00110011', '86': '01001100', '87': '10011111', '88': '01011111', '89': '111111101', '8a': '10100111', '8b': '01100110', '8c': '00010111', '8d': '111111111', '8e': '10101000', '8f': '10110011', '90': '00110110', '91': '00011011', '92': '10001000', '93': '00111101', '94': '00111110', '95': '00000111', '96': '01010000', '97': '01000111', '98': '01111111', '99': '111100110', '9a': '10000100', '9b': '01011101', '9c': '10111111', '9d': '01100000', '9e': '01111001', '9f': '10101001', 'a0': '10011101', 'a1': '111111110', 'a2': '00010011', 'a3': '10000111', 'a4': '00001011', 'a5': '01010010', 'a6': '01011110', 'a7': '01000001', 'a8': '00111100', 'a9': '00101010', 'aa': '00011010', 'ab': '10010011', 'ac': '00011110', 'ad': '00110111', 'ae': '00101011', 'af': '10100110', 'b0': '11010100', 'b1': '10000110', 'b2': '00001110', 'b3': '01110110', 'b4': '111110011', 'b5': '01010011', 'b6': '00010100', 'b7': '10101111', 'b8': '11010101', 'b9': '00101100', 'ba': '00001111', 'bb': '11010001', 'bc': '01100111', 'bd': '10100001', 'be': '01101100', 'bf': '11001011', 'c0': '0011000', 'c1': '11100100', 'c2': '00111000', 'c3': '10110111', 'c4': '01100100', 'c5': '10100100', 'c6': '00100010', 'c7': '11100101', 'c8': '00010010', 'c9': '01100001', 'ca': '111111011', 'cb': '11001100', 'cc': '00000110', 'cd': '01000101', 'ce': '10010101', 'cf': '11001000', 'd0': '00010000', 'd1': '00110100', 'd2': '111100111', 'd3': '10110001', 'd4': '00011000', 'd5': '10000010', 'd6': '111111010', 'd7': '10101110', 'd8': '10110101', 'd9': '00011111', 'da': '00000000', 'db': '11010000', 'dc': '10111000', 'dd': '10111010', 'de': '10011110', 'df': '11010010', 'e0': '0000010', 'e1': '11000000', 'e2': '01011011', 'e3': '11001101', 'e4': '111110111', 'e5': '10110010', 'e6': '01010100', 'e7': '10110110', 'e8': '00000001', 'e9': '10010110', 'ea': '01000110', 'eb': '11011000', 'ec': '01011000', 'ed': '11000010', 'ee': '10010000', 'ef': '11011011', 'f0': '11101000', 'f1': '01010001', 'f2': '01111000', 'f3': '10111101', 'f4': '00011100', 'f5': '10000101', 'f6': '10100101', 'f7': '11011010', 'f8': '11101001', 'f9': '10101011', 'fa': '01110010', 'fb': '11011100', 'fc': '11011101', 'fd': '11010110', 'fe': '11010111', 'ff': '11110001'}\n"
     ]
    }
   ],
   "source": [
    "#Binary Huffman code\n",
    "huffman_codes_png = Huffman_code(d2)\n",
    "print(\"Binary Huffman code : \")\n",
    "print(huffman_codes_png)"
   ]
  },
  {
   "cell_type": "code",
   "execution_count": 35,
   "metadata": {},
   "outputs": [
    {
     "name": "stdout",
     "output_type": "stream",
     "text": [
      "Length of the encoded PNG file :\n",
      "1282749\n"
     ]
    }
   ],
   "source": [
    "#Length of the encoded PNG file\n",
    "length = 0\n",
    "\n",
    "for key in d1.keys():\n",
    "    length += d1[key]*len(huffman_codes_png[key]) \n",
    "print(\"Length of the encoded PNG file :\")    \n",
    "print(length)"
   ]
  },
  {
   "cell_type": "code",
   "execution_count": 36,
   "metadata": {},
   "outputs": [
    {
     "name": "stdout",
     "output_type": "stream",
     "text": [
      "Compression rate : \n",
      "1.0012995527573985\n"
     ]
    }
   ],
   "source": [
    "#Compression rate \n",
    "\n",
    "comp = 1284416/length\n",
    "print(\"Compression rate : \")\n",
    "print(comp)"
   ]
  },
  {
   "cell_type": "markdown",
   "metadata": {},
   "source": [
    "### Question 7"
   ]
  },
  {
   "cell_type": "markdown",
   "metadata": {},
   "source": [
    "Give the expected average length for your Huffman code. Compare this value with (a) the empirical average length, and (b) theoretical bound(s). Justify."
   ]
  },
  {
   "cell_type": "code",
   "execution_count": 37,
   "metadata": {},
   "outputs": [
    {
     "name": "stdout",
     "output_type": "stream",
     "text": [
      "Expected average length : \n",
      "7.989617071104689\n"
     ]
    }
   ],
   "source": [
    "# Expected average length\n",
    "n_averaged = 0\n",
    "\n",
    "for key in d2.keys():\n",
    "    n_averaged += d2[key]*len(huffman_codes_png[key])\n",
    "\n",
    "print(\"Expected average length : \")\n",
    "print(n_averaged)"
   ]
  },
  {
   "cell_type": "code",
   "execution_count": 39,
   "metadata": {},
   "outputs": [
    {
     "name": "stdout",
     "output_type": "stream",
     "text": [
      "Empirical average length of Huffman code: 7.98962\n"
     ]
    }
   ],
   "source": [
    "# Empirical average length\n",
    "png_bis = open('data/PNG.txt', 'r').read()\n",
    "huff_emp_avg_len = length/160552\n",
    "print(\"Empirical average length of Huffman code: {:.5f}\" .format(huff_emp_avg_len))"
   ]
  },
  {
   "cell_type": "code",
   "execution_count": 40,
   "metadata": {},
   "outputs": [],
   "source": [
    "# Entropy useful for theoretical bounds computation\n",
    "def entropy(Px):\n",
    "    \"\"\"\n",
    "    Computes the entropy from the marginal probability distribution. \n",
    "    Arguments:\n",
    "    ----------\n",
    "    - Px :  Marginal probability distribution of the random \n",
    "            variable X in a numpy array where Px[i]=P(X=i)\n",
    "    Return:\n",
    "    -------\n",
    "    - The entropy of X (H(X)) as a number (integer, float or double).\n",
    "    \"\"\"\n",
    "    return - Px @ np.log2(Px, where=(Px!=0)) # Px must be a numpy array otherwise the `where` argument in np.log2 won't correctly work"
   ]
  },
  {
   "cell_type": "code",
   "execution_count": 41,
   "metadata": {},
   "outputs": [
    {
     "name": "stdout",
     "output_type": "stream",
     "text": [
      "7.972177512181803\n",
      "Theoretical bounds : [7.972, 8.972]\n"
     ]
    }
   ],
   "source": [
    "# Theoretical bounds\n",
    "Px = np.array(list(d2.values()))\n",
    "H_S = entropy(Px)\n",
    "print(H_S)\n",
    "left_bound = H_S/np.log2(2)\n",
    "right_bound = left_bound + 1\n",
    "print(\"Theoretical bounds : [{:.3f}, {:.3f}]\" .format(left_bound, right_bound))"
   ]
  },
  {
   "cell_type": "markdown",
   "metadata": {},
   "source": [
    "### Question 8"
   ]
  },
  {
   "cell_type": "markdown",
   "metadata": {},
   "source": [
    "Plot the evolution of the empirical average length of the encoded PNG using your Huffman code for increasing input sequence lengths."
   ]
  },
  {
   "cell_type": "code",
   "execution_count": 44,
   "metadata": {},
   "outputs": [
    {
     "data": {
      "image/png": "[encoded data removed]",
      "text/plain": [
       "<Figure size 648x432 with 1 Axes>"
      ]
     },
     "metadata": {
      "needs_background": "light"
     },
     "output_type": "display_data"
    }
   ],
   "source": [
    "#Plot of the empirical average length\n",
    "\n",
    "import matplotlib.pyplot as plt\n",
    "\n",
    "input_lengths = [50*i for i in range(1,400)]\n",
    "emp_lengths = np.zeros(len(input_lengths))\n",
    "d_bis = dict()\n",
    "\n",
    "for j in range(len(input_lengths)):\n",
    "    \n",
    "    with open(\"data/PNG.txt\", \"r\") as f:\n",
    "        lignes = []\n",
    "        for i in range(input_lengths[j]):\n",
    "            ligne = f.readline()\n",
    "            lignes.append(ligne)\n",
    "\n",
    "    for line in lignes:\n",
    "        # Remove the leading spaces and newline character\n",
    "        line = line.strip()\n",
    "\n",
    "        # Convert the characters in line to\n",
    "        # lowercase to avoid case mismatch\n",
    "        line = line.lower()\n",
    "\n",
    "        # Split the line into words\n",
    "        hexas = line.split(\" \")\n",
    "    \n",
    "        # Iterate over each word in line\n",
    "        for hexa in hexas:\n",
    "        # Check if the word is already in dictionary\n",
    "            if hexa in d_bis:\n",
    "                # Increment count of word by 1\n",
    "                d_bis[hexa] = d_bis[hexa] + 1\n",
    "            else:\n",
    "                # Add the word to dictionary with count 1\n",
    "                d_bis[hexa] = 1\n",
    "    \n",
    "    total = 8*input_lengths[j]\n",
    "    d_prob = d_bis.copy()\n",
    "    \n",
    "    for key in d_bis.keys():\n",
    "        d_bis[key] /= total\n",
    "\n",
    "    huff_code = Huffman_code(d_bis)\n",
    " \n",
    "    length_bis = 0\n",
    "\n",
    "    for key in d_bis.keys():\n",
    "        length_bis += d_prob[key]*len(huff_code[key]) \n",
    "\n",
    "    emp_lengths[j] = length_bis/total\n",
    "\n",
    "plt.figure(figsize=(9,6))\n",
    "plt.plot(input_lengths,emp_lengths)\n",
    "plt.title('Empirical average length evolution')\n",
    "plt.xlabel('Input png lengths')\n",
    "plt.ylabel('Empirical average length (Huffman code)')\n",
    "plt.xscale('log')\n",
    "plt.savefig('Q8.pdf')    "
   ]
  },
  {
   "cell_type": "markdown",
   "metadata": {},
   "source": [
    "### Question 9"
   ]
  },
  {
   "cell_type": "markdown",
   "metadata": {},
   "source": [
    "Encode the PNG sequence using the on-line Lempel-Ziv algorithm. Give the total length of the encoded sequence and the compression rate."
   ]
  },
  {
   "cell_type": "code",
   "execution_count": null,
   "metadata": {},
   "outputs": [],
   "source": [
    "#LZ_online algorithm modified to work with hexadecimal keys\n",
    "\n",
    "def LZ_online_hexa(sequence):\n",
    "    \"\"\"\n",
    "    The on-line Lempel-Ziv algorithm given a sequence of symbols  \n",
    "    Arguments:\n",
    "    ----------\n",
    "    - sequence : Sequence of symbols in the string format\n",
    "    \n",
    "    Return:\n",
    "    -------\n",
    "    - dictionary : the computed dictionary in the form:\n",
    "        - keys: symbol as character or string\n",
    "        - values: associated codeword as a tuple composed of the entry index (integer) and a binarized address with one appended symbol (character or string)\n",
    "        Example: {'': (0, ''), '0': (1, '0'), '1': (2, '01'), '00': (3, '010'), '10': (4, '100')}\n",
    "    - encoded_sequence : the encoded sequence in the string format\n",
    "    \"\"\"\n",
    "    \n",
    "    dictionary = {'': (0, '')}\n",
    "    encoded_sequence = ''\n",
    "    buffer = ''\n",
    "    next_code = 1\n",
    "\n",
    "    for i in range(0, len(sequence), 2):\n",
    "        symbol = sequence[i:i+2]\n",
    "        buffer += symbol\n",
    "\n",
    "        if buffer not in dictionary:\n",
    "            # Get prefix\n",
    "            prefix = buffer[:-2]\n",
    "\n",
    "            # Calculate number of bits required\n",
    "            num_bits = int(np.ceil(np.log2(next_code)))\n",
    "\n",
    "            # Convert hexadecimal to binary\n",
    "            binary_symbol = bin(int(symbol, 16))[2:].zfill(8)\n",
    "\n",
    "            # Add new entry with index and binary address with appended symbol\n",
    "            dictionary[buffer] = (next_code, (format(dictionary[prefix][0], f'0{num_bits}b') if next_code > 1 else '') + binary_symbol)\n",
    "\n",
    "            # Add encoded symbol\n",
    "            encoded_sequence += dictionary[buffer][1]\n",
    "\n",
    "            next_code += 1\n",
    "            buffer = ''\n",
    "\n",
    "    return dictionary, encoded_sequence\n"
   ]
  },
  {
   "cell_type": "code",
   "execution_count": null,
   "metadata": {},
   "outputs": [],
   "source": [
    "with open(\"data\\PNG.txt\", 'r') as file:\n",
    "    sequence = file.read()\n",
    "    \n",
    "# Remove new lines and spaces\n",
    "sequence = sequence.replace('\\n', ' ').replace(' ', '')\n",
    "\n",
    "dictionary_hexa, encoded_sequence_hexa = LZ_online_hexa(sequence)\n",
    "\n",
    "length_test = 0\n",
    "    \n",
    "occ_dict = {i : encoded_sequence_hexa.count(i) for i in set(encoded_sequence_hexa)}\n",
    "\n",
    "for key in occ_dict.keys():\n",
    "    length_test += occ_dict[key]\n",
    "\n",
    "print(\"Length of the PNG encoded sequence : \")\n",
    "print(length_test)\n",
    "\n",
    "\n",
    "comp_rate = 1284416/length_test \n",
    "\n",
    "print(\"Compression rate : \")\n",
    "print(comp_rate)"
   ]
  },
  {
   "cell_type": "markdown",
   "metadata": {},
   "source": [
    "### Question 10"
   ]
  },
  {
   "cell_type": "code",
   "execution_count": null,
   "metadata": {},
   "outputs": [],
   "source": [
    "def LZ77_hexa(sequence, window_size=7):\n",
    "    \"\"\"\n",
    "    The Lempel-Ziv 77 algorithm given a sequence of symbols and the sliding window size\n",
    "    \n",
    "    Arguments:\n",
    "    ----------\n",
    "    - sequence : Sequence of symbols in the string format\n",
    "    - window_size : sliding window size as an integer\n",
    "    \n",
    "    Return:\n",
    "    -------\n",
    "    - encoded_sequence : the encoded sequence in the string format\n",
    "    \"\"\"\n",
    "\n",
    "    # Remove new lines and spaces\n",
    "    sequence = sequence.replace('\\n', ' ').replace(' ', '')\n",
    "\n",
    "    encoded_sequence = ''\n",
    "    window = ''\n",
    "    input_string = sequence\n",
    "    \n",
    "    while input_string:\n",
    "        max_prefix_length = 0\n",
    "        max_prefix_offset = 0\n",
    "        prefix_char = input_string[:2]\n",
    "        \n",
    "        # Iterate through window to find longest prefix\n",
    "        for i in range(0, len(window), 2):\n",
    "            prefix_length = 0\n",
    "            while (prefix_length < len(input_string) and window[i + prefix_length:i + prefix_length + 2] == input_string[prefix_length:prefix_length + 2]):\n",
    "                prefix_length += 2\n",
    "                if i + prefix_length >= len(window):\n",
    "                    break\n",
    "            \n",
    "            # Update maximum prefix information if longer prefix found\n",
    "            if prefix_length >= max_prefix_length:\n",
    "                max_prefix_length = prefix_length\n",
    "                max_prefix_offset = len(window) - i\n",
    "                prefix_char = input_string[prefix_length:prefix_length + 2] if prefix_length < len(input_string) else ''\n",
    "        \n",
    "        # If prefix found, set d, p, and c accordingly\n",
    "        if max_prefix_length > 0:\n",
    "            d = max_prefix_offset // 2\n",
    "            p = max_prefix_length // 2\n",
    "            c = prefix_char\n",
    "        else:\n",
    "            d = 0\n",
    "            p = 0\n",
    "            c = input_string[:2]\n",
    "        \n",
    "        encoded_sequence += str(d) + str(p) + c\n",
    "        \n",
    "        # Shift the sliding window\n",
    "        shift_amount = (p * 2) + 2\n",
    "        window = window[-window_size * 2 + shift_amount:] + input_string[:shift_amount]\n",
    "        input_string = input_string[shift_amount:]\n",
    "    \n",
    "    return encoded_sequence"
   ]
  },
  {
   "cell_type": "code",
   "execution_count": null,
   "metadata": {},
   "outputs": [],
   "source": [
    "with open(\"data\\PNG.txt\", 'r') as file:\n",
    "    sequence_Q10 = file.read()\n",
    "\n",
    "encoded_sequence_hexa = LZ77_hexa(sequence_Q10, 7)\n",
    "\n",
    "length_test = 0\n",
    "    \n",
    "occ_dict = {i : encoded_sequence_hexa.count(i) for i in set(encoded_sequence_hexa)}\n",
    "\n",
    "for key in occ_dict.keys():\n",
    "        length_test += 4*occ_dict[key]\n",
    "        \n",
    "print(\"Length of the PNG encoded sequence : \")\n",
    "print(length_test)\n",
    "\n",
    "comp_rate = 1284416/length_test\n",
    "\n",
    "print(\"Compression rate : \")\n",
    "print(comp_rate)\n"
   ]
  },
  {
   "cell_type": "markdown",
   "metadata": {},
   "source": [
    "### Question 12"
   ]
  },
  {
   "cell_type": "code",
   "execution_count": null,
   "metadata": {},
   "outputs": [],
   "source": [
    "def LZ77_Huffman(sequence, window_size):\n",
    "    \"\"\"\n",
    "    Combination of LZ77 and Huffman algorithms to encode a given sequence.\n",
    "    \n",
    "    Arguments:\n",
    "    ----------\n",
    "    - sequence : Sequence of symbols in the string format\n",
    "    - window_size : sliding window size as an integer\n",
    "    \n",
    "    Return:\n",
    "    -------\n",
    "    - LZ77_huff_encoded : the encoded sequence in the string format\n",
    "    \"\"\"\n",
    "    U_LZ77 = LZ77_hexa(sequence, window_size)\n",
    "    LZ77_occ_char = {i : U_LZ77.count(i) for i in set(U_LZ77)-set(list(map(str, range(window_size+1))))}\n",
    "    total = sum(LZ77_occ_char.values())\n",
    "    for key in LZ77_occ_char.keys():\n",
    "        LZ77_occ_char[key] /= total\n",
    "    LZ77_huff_code = Huffman_code(LZ77_occ_char)\n",
    "  \n",
    "    LZ77_huff_encoded = ''\n",
    "\n",
    "    for s in U_LZ77:\n",
    "        if s in LZ77_huff_code:\n",
    "            LZ77_huff_encoded += str(LZ77_huff_code[s])\n",
    "        else:\n",
    "            LZ77_huff_encoded += s\n",
    "    return LZ77_huff_encoded"
   ]
  },
  {
   "cell_type": "code",
   "execution_count": null,
   "metadata": {},
   "outputs": [],
   "source": [
    "with open(\"data\\PNG.txt\", 'r') as file:\n",
    "    sequence_Q = file.read()\n",
    "    \n",
    "LZ77_huff_encoded = LZ77_Huffman(sequence_Q, 7)\n",
    "\n",
    "length_test = 0\n",
    "    \n",
    "occ_dict = {i : LZ77_huff_encoded.count(i) for i in set(LZ77_huff_encoded)}\n",
    "\n",
    "for key in occ_dict.keys():\n",
    "    if key == 0 or key == 1:\n",
    "        length_test += occ_dict[key]\n",
    "    else:\n",
    "        length_test += 4*occ_dict[key]\n",
    "        \n",
    "print(\"Length of the PNG encoded sequence : \")\n",
    "print(length_test)\n",
    "\n",
    "print(\"Compression rate : \")\n",
    "comp_rate = 1284416/length_test *np.log2(4)\n",
    "print(comp_rate)"
   ]
  },
  {
   "cell_type": "markdown",
   "metadata": {},
   "source": [
    "### Question 13"
   ]
  },
  {
   "cell_type": "markdown",
   "metadata": {},
   "source": [
    "Report the total lengths and compression rates using (a) LZ77 and (b) the combination of LZ77 and Huffman, to encode the PNG sequence for different values of the sliding window size (use sliding window sizes from 1 to 11000 with a step of 1000). Compare your result with the total length and compression rate obtained using the on-line Lempel-Ziv algorithm. Discuss your results."
   ]
  },
  {
   "cell_type": "code",
   "execution_count": null,
   "metadata": {},
   "outputs": [],
   "source": [
    "with open(\"data\\PNG.txt\", 'r') as file:\n",
    "    sequence_Q13 = file.read()\n",
    "    \n",
    "# LZ77 for different values of window\n",
    "tab = np.array([1, 1000, 2000, 3000, 4000, 5000, 6000, 7000, 8000, 9000, 10000, 11000])\n",
    "\n",
    "for window in tab:\n",
    "    print(window)\n",
    "\n",
    "    encoded_sequence_hexa = LZ77_hexa(sequence_Q13, window)\n",
    "\n",
    "    length_test = 0\n",
    "    \n",
    "    occ_dict = {i : encoded_sequence_hexa.count(i) for i in set(encoded_sequence_hexa)}\n",
    "\n",
    "    for key in occ_dict.keys():\n",
    "          length_test += 4*occ_dict[key]\n",
    "    \n",
    "    print(length_test)\n",
    "\n",
    "    comp_rate = 1284416/length_test \n",
    "    comp_tab[j] = comp_rate\n",
    "    print(comp_rate)"
   ]
  },
  {
   "cell_type": "code",
   "execution_count": null,
   "metadata": {},
   "outputs": [],
   "source": [
    "lengths = [1710284, 1793000, 1785648, 1776480, 1768720, 1762292, 1754280, 1747704, 1741580, 1735588, 1729968, 1728284 ]\n",
    "comp_tab = [0.7509957410582102, 0.7163502509760179, 0.7192996604033942, 0.7230117986129875, 0.7261839070061966, 0.7288326792608716, 0.7321613425450897, 0.7349162100676087, 0.7375004306434387, 0.7400466009214168, 0.742450727412299, 0.7431741542477972]  \n"
   ]
  },
  {
   "cell_type": "code",
   "execution_count": null,
   "metadata": {},
   "outputs": [],
   "source": [
    "with open(\"data\\PNG.txt\", 'r') as file:\n",
    "    sequence_f = file.read()\n",
    "    \n",
    "tab = np.array([1, 1000, 2000, 3000, 4000, 5000, 6000, 7000, 8000, 9000, 10000, 11000])\n",
    "\n",
    "\n",
    "for window in tab:\n",
    "    print(window)\n",
    "\n",
    "    LZ77_huff_encoded = LZ77_Huffman(sequence_f, window)\n",
    "\n",
    "    length_test = 0\n",
    "    \n",
    "    occ_dict = {i : LZ77_huff_encoded.count(i) for i in set(LZ77_huff_encoded)}\n",
    "\n",
    "    for key in occ_dict.keys():\n",
    "        if key == 0 or key == 1:\n",
    "            length_test += occ_dict[key]\n",
    "        else:\n",
    "            length_test += 4*occ_dict[key]\n",
    "    \n",
    "    print(length_test)\n",
    "\n",
    "    comp_rate = 1284416/length_test *np.log2(4)\n",
    "    \n",
    "    print(comp_rate)"
   ]
  },
  {
   "cell_type": "code",
   "execution_count": null,
   "metadata": {},
   "outputs": [],
   "source": [
    "lengths2 = [4912544, 2183148, 2168768, 2156168, 2144864, 2136560, 2125148, 2115824, 2106648, 2098172, 2090100, 2086360  ]\n",
    "comp_tab2 = [ 0.5229127718754275,1.1766641565299283,1.1844660194174756 ,1.1913876840765654,1.1976666119623436,1.2023214887482683,1.208777929819476,1.2141047648575685,1.2193930832298514,1.224319073936741 ,1.2290474139993302,1.2312505991295846]\n"
   ]
  },
  {
   "cell_type": "code",
   "execution_count": null,
   "metadata": {},
   "outputs": [],
   "source": [
    "plt.plot(tab[:],lengths[:], label = 'LZ77')\n",
    "plt.plot(tab[:],lengths2[:], label = 'LZ77-Huffman')\n",
    "plt.title('Algorithm comparison')\n",
    "plt.xlabel('Window size')\n",
    "plt.ylabel('Encoded sequence length')\n",
    "plt.legend()\n",
    "plt.savefig('Q13_l.pdf')   "
   ]
  },
  {
   "cell_type": "code",
   "execution_count": null,
   "metadata": {},
   "outputs": [],
   "source": [
    "plt.plot(tab,comp_tab, label = 'LZ77')\n",
    "plt.plot(tab,comp_tab2, label = 'LZ77-Huffman')\n",
    "plt.title('Algorithm comparison')\n",
    "plt.xlabel('Window size')\n",
    "plt.ylabel('Compression rate')\n",
    "plt.legend()\n",
    "plt.savefig('Q13_c.pdf')   "
   ]
  },
  {
   "cell_type": "markdown",
   "metadata": {},
   "source": [
    "### Question 14"
   ]
  },
  {
   "cell_type": "markdown",
   "metadata": {},
   "source": [
    "Instead of encoding the PNG sequence, encode directly the pixel values with the binary Huffman algorithm. Give the average expected length, the experimental length of the encoded text and the compression rate."
   ]
  },
  {
   "cell_type": "code",
   "execution_count": null,
   "metadata": {},
   "outputs": [],
   "source": [
    "#Counting the numbers of occurence of hexadecimal numbers in the \"PNG.txt\" file\n",
    "#Code inspired from https://www.geeksforgeeks.org/python-count-occurrences-of-each-word-in-given-text-file/\n",
    "\n",
    "# Open the file in read mode\n",
    "pixel = open(\"data\\pixel.txt\", \"r\")\n",
    "\n",
    "# Create an empty dictionary\n",
    "d_pixel = dict()\n",
    "\n",
    "# Loop through each line of the file\n",
    "for line in pixel:\n",
    "    # Remove the leading spaces and newline character\n",
    "    line = line.strip()\n",
    "\n",
    "    # Convert the characters in line to\n",
    "    # lowercase to avoid case mismatch\n",
    "    line = line.lower()\n",
    "\n",
    "    # Split the line into words\n",
    "    hexas = line.split(\" \")\n",
    " \n",
    "\n",
    "    # Iterate over each word in line\n",
    "    for hexa in hexas:\n",
    "        # Check if the word is already in dictionary\n",
    "        if hexa in d_pixel:\n",
    "            # Increment count of word by 1\n",
    "            d_pixel[hexa] = d_pixel[hexa] + 1\n",
    "        else:\n",
    "            # Add the word to dictionary with count 1\n",
    "            d_pixel[hexa] = 1"
   ]
  },
  {
   "cell_type": "code",
   "execution_count": null,
   "metadata": {
    "scrolled": true
   },
   "outputs": [],
   "source": [
    "# Marginal probability distribution of all symbols\n",
    "d_pixel2 = d_pixel.copy()\n",
    "total = 262144\n",
    "for key in d_pixel2.keys():\n",
    "    d_pixel2[key] /= total\n",
    "\n",
    "print(\"Probability distribution of png symbols :\")\n",
    "print(d_pixel2)"
   ]
  },
  {
   "cell_type": "code",
   "execution_count": null,
   "metadata": {
    "scrolled": true
   },
   "outputs": [],
   "source": [
    "#Binary Huffman code\n",
    "huffman_codes_pixel = Huffman_code(d_pixel2)\n",
    "print(\"Huffman code :\")\n",
    "print(huffman_codes_pixel)"
   ]
  },
  {
   "cell_type": "code",
   "execution_count": null,
   "metadata": {},
   "outputs": [],
   "source": [
    "#Length of the encoded pixel file\n",
    "length_huff = 0\n",
    "\n",
    "for key in d_pixel.keys():\n",
    "    length_huff += d_pixel[key]*len(huffman_codes_pixel[key]) \n",
    "print(\"Length of the encoded pixel file :\")    \n",
    "print(length_huff)"
   ]
  },
  {
   "cell_type": "code",
   "execution_count": null,
   "metadata": {},
   "outputs": [],
   "source": [
    "#Compression rate \n",
    "length_pixel = 263144*8\n",
    "comp = length_pixel/length_huff\n",
    "print(\"Compressed rate :\")\n",
    "print(comp)"
   ]
  },
  {
   "cell_type": "code",
   "execution_count": null,
   "metadata": {
    "scrolled": true
   },
   "outputs": [],
   "source": [
    "# Expected average length\n",
    "n_pixel = 0\n",
    "\n",
    "for key in d_pixel2.keys():\n",
    "    n_pixel += d_pixel2[key]*len(huffman_codes_pixel[key])\n",
    "    \n",
    "print(\"Average length of each symbol :\")\n",
    "print(n_pixel)"
   ]
  },
  {
   "cell_type": "code",
   "execution_count": null,
   "metadata": {},
   "outputs": [],
   "source": [
    "# Empirical average length\n",
    "pixel_bis = open('data\\pixel.txt', 'r').read()\n",
    "huff_emp_avg_len = length_huff/total\n",
    "print(\"Empirical average length of Huffman code: {:.5f}\" .format(huff_emp_avg_len))"
   ]
  },
  {
   "cell_type": "markdown",
   "metadata": {
    "id": "arr1rcE65c6K"
   },
   "source": [
    "## Channel coding"
   ]
  },
  {
   "cell_type": "markdown",
   "metadata": {
    "id": "ZLwLdqlh5qE5"
   },
   "source": [
    "### Question 16\n",
    "\n"
   ]
  },
  {
   "cell_type": "markdown",
   "metadata": {},
   "source": [
    "Implement a function to read the text document and encode the text signal using the binary ASCII fixed-length binary code. Count the number of bits required for the text provided with this assignment (text.txt)."
   ]
  },
  {
   "cell_type": "code",
   "execution_count": null,
   "metadata": {},
   "outputs": [],
   "source": [
    "def read_and_encode(filename):\n",
    "    with open(filename, 'r') as file:\n",
    "        content = file.read()\n",
    "        \n",
    "    binary_content = ''.join(format(ord(c), '08b') for c in content)\n",
    "\n",
    "    return content, binary_content"
   ]
  },
  {
   "cell_type": "code",
   "execution_count": null,
   "metadata": {},
   "outputs": [],
   "source": [
    "filename = 'data\\text.txt'\n",
    "content, binary_content = read_and_encode(filename)\n",
    "print(f\"Number of bits required: {len(binary_content)}\")"
   ]
  },
  {
   "cell_type": "markdown",
   "metadata": {},
   "source": [
    "### Question 17"
   ]
  },
  {
   "cell_type": "markdown",
   "metadata": {},
   "source": [
    "Simulate the channel effect on the binary text signal. Then decode the text signal and display the decoded text. What do you notice?"
   ]
  },
  {
   "cell_type": "code",
   "execution_count": null,
   "metadata": {},
   "outputs": [],
   "source": [
    "def channel_effect(binary_signal, error_probability):\n",
    "    altered_signal = ''\n",
    "\n",
    "    for bit in binary_signal:\n",
    "        if np.random.random() < error_probability:\n",
    "            altered_signal += '1' if bit == '0' else '0'\n",
    "        else:\n",
    "            altered_signal += bit\n",
    "\n",
    "    return altered_signal\n",
    "\n",
    "def decode(binary_signal):\n",
    "    text = ''\n",
    "\n",
    "    for i in range(0, len(binary_signal), 8):\n",
    "        byte = binary_signal[i:i+8]\n",
    "        text += chr(int(byte, 2))\n",
    "        \n",
    "    return text"
   ]
  },
  {
   "cell_type": "code",
   "execution_count": null,
   "metadata": {},
   "outputs": [],
   "source": [
    "error_probability = 0.02\n",
    "altered_signal = channel_effect(binary_content, error_probability)\n",
    "decoded_text = decode(altered_signal)\n",
    "print(decoded_text)"
   ]
  },
  {
   "cell_type": "markdown",
   "metadata": {},
   "source": [
    "### Question 18"
   ]
  },
  {
   "cell_type": "markdown",
   "metadata": {},
   "source": [
    "Instead of sending directly through the channel the binary text signal, you will first introduce some redundancy. To do that, implement a function that returns the Hamming (7,4) code for a given sequence of binary symbols. Then, using your function, encode the binary text signal (from question 16)."
   ]
  },
  {
   "cell_type": "code",
   "execution_count": null,
   "metadata": {},
   "outputs": [],
   "source": [
    "def encode_four_bits(bits):\n",
    "    p1 = str((int(bits[0]) + int(bits[1]) + int(bits[3])) % 2)\n",
    "    p2 = str((int(bits[0]) + int(bits[2]) + int(bits[3])) % 2)\n",
    "    p3 = str((int(bits[1]) + int(bits[2]) + int(bits[3])) % 2)\n",
    "\n",
    "    return p1 + p2 + bits[0] + p3 + bits[1:]\n",
    "\n",
    "def hamming74_encode(binary_signal):\n",
    "    encoded_signal = ''\n",
    "\n",
    "    for i in range(0, len(binary_signal), 4):\n",
    "        encoded_signal += encode_four_bits(binary_signal[i:i+4])\n",
    "        \n",
    "    return encoded_signal"
   ]
  },
  {
   "cell_type": "code",
   "execution_count": null,
   "metadata": {},
   "outputs": [],
   "source": [
    "hamming74_binary_content = hamming74_encode(binary_content)"
   ]
  },
  {
   "cell_type": "markdown",
   "metadata": {},
   "source": [
    "### Question 19"
   ]
  },
  {
   "cell_type": "markdown",
   "metadata": {},
   "source": [
    "Simulate the channel effect on the binary text signal with redundancy. Then decode the binary text signal. Display the decoded text. What do you notice? Explain your decoding procedure."
   ]
  },
  {
   "cell_type": "code",
   "execution_count": null,
   "metadata": {},
   "outputs": [],
   "source": [
    "def decode_seven_bits(bits):\n",
    "    p1 = int(bits[0])\n",
    "    p2 = int(bits[1])\n",
    "    s1 = int(bits[2])\n",
    "    p3 = int(bits[3])\n",
    "    s2 = int(bits[4])\n",
    "    s3 = int(bits[5])\n",
    "    s4 = int(bits[6])\n",
    "\n",
    "    error_pos = (p1 ^ (s1 ^ s2 ^ s4)) * 1 + (p2 ^ (s1 ^ s3 ^ s4)) * 2 + (p3 ^ (s2 ^ s3 ^ s4)) * 4\n",
    "    \n",
    "    if error_pos > 0:\n",
    "        bits = list(bits)\n",
    "        bits[error_pos - 1] = '1' if bits[error_pos - 1] == '0' else '0'\n",
    "        bits = ''.join(bits)\n",
    "    \n",
    "    return bits[2] + bits[4:]\n",
    "\n",
    "def hamming74_decode(encoded_signal):\n",
    "    decoded_signal = ''\n",
    "    \n",
    "    for i in range(0, len(encoded_signal), 7):\n",
    "        decoded_signal += decode_seven_bits(encoded_signal[i:i+7])\n",
    "\n",
    "    return decoded_signal"
   ]
  },
  {
   "cell_type": "code",
   "execution_count": null,
   "metadata": {},
   "outputs": [],
   "source": [
    "altered_hamming74_signal = channel_effect(hamming74_binary_content, error_probability)\n",
    "decoded_hamming74_signal = hamming74_decode(altered_hamming74_signal)\n",
    "decoded_hamming74_text = decode(decoded_hamming74_signal)\n",
    "print(decoded_hamming74_text)"
   ]
  },
  {
   "cell_type": "markdown",
   "metadata": {},
   "source": [
    "### Question 20\n",
    "\n",
    "Given the text document encoded in binary ASCII, implement a Python program to simulate transmission over a binary symmetric channel with a noise probability ranging from 0 to 0.5, with a step of 0.01. Compute the per character error rate for each noise probability, both with and without Hamming (7,4) code. Plot the per character error rate as a function of the noise probability, and compare the performance with and without Hamming (7,4) code."
   ]
  },
  {
   "cell_type": "code",
   "execution_count": null,
   "metadata": {},
   "outputs": [],
   "source": [
    "def error_rate(original_text, decoded_text):\n",
    "    errors = sum(o != d for o, d in zip(original_text, decoded_text))\n",
    "    \n",
    "    return errors / len(original_text)"
   ]
  },
  {
   "cell_type": "code",
   "execution_count": null,
   "metadata": {},
   "outputs": [],
   "source": [
    "noise_probabilities = np.arange(0, 0.51, 0.01)\n",
    "error_rates_no_hamming74 = []\n",
    "error_rates_hamming74 = []\n",
    "\n",
    "for n_p in noise_probabilities:\n",
    "    altered_signal = channel_effect(binary_content, n_p)\n",
    "    decoded_text = decode(altered_signal)\n",
    "    error_rates_no_hamming74.append(error_rate(decoded_text, content))\n",
    "\n",
    "    altered_hamming74_signal = channel_effect(hamming74_binary_content, n_p)\n",
    "    decoded_hamming74_signal = hamming74_decode(altered_hamming74_signal)\n",
    "    decoded_hamming74_text = decode(decoded_hamming74_signal)\n",
    "    error_rates_hamming74.append(error_rate(decoded_hamming74_text, content))\n",
    "\n",
    "plt.plot(noise_probabilities, error_rates_no_hamming74, label='No Hamming (7,4) code')\n",
    "plt.plot(noise_probabilities, error_rates_hamming74, label='With Hamming (7,4) code')\n",
    "plt.xlabel('Noise Probability')\n",
    "plt.ylabel('Per Character Error Rate')\n",
    "plt.legend()\n",
    "plt.grid(True)\n",
    "plt.show()"
   ]
  },
  {
   "cell_type": "code",
   "execution_count": null,
   "metadata": {},
   "outputs": [],
   "source": []
  }
 ],
 "metadata": {
  "celltoolbar": "Edit Metadata",
  "colab": {
   "provenance": []
  },
  "kernelspec": {
   "display_name": "Python 3 (ipykernel)",
   "language": "python",
   "name": "python3"
  },
  "language_info": {
   "codemirror_mode": {
    "name": "ipython",
    "version": 3
   },
   "file_extension": ".py",
   "mimetype": "text/x-python",
   "name": "python",
   "nbconvert_exporter": "python",
   "pygments_lexer": "ipython3",
   "version": "3.9.7"
  }
 },
 "nbformat": 4,
 "nbformat_minor": 1
}
